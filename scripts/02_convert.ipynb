{
 "cells": [
  {
   "cell_type": "markdown",
   "metadata": {
    "pycharm": {
     "name": "#%% md\n"
    }
   },
   "source": [
    "<br>\n",
    "\n",
    "# Convert _shp_ to _geojson_\n"
   ]
  },
  {
   "cell_type": "code",
   "execution_count": null,
   "metadata": {
    "pycharm": {
     "name": "#%%\n"
    }
   },
   "outputs": [],
   "source": [
    "#!pip3 install open_geodata --upgrade\n"
   ]
  },
  {
   "cell_type": "code",
   "execution_count": null,
   "metadata": {
    "pycharm": {
     "name": "#%%\n"
    }
   },
   "outputs": [],
   "source": [
    "import os\n",
    "import geopandas as gpd\n",
    "from open_geodata import converts\n",
    "from paths import output_path_shp, output_path_geojson, output_path_gpkg"
   ]
  },
  {
   "cell_type": "code",
   "execution_count": null,
   "metadata": {},
   "outputs": [],
   "source": [
    "list_shp = list(output_path_shp.rglob('*.shp'))\n",
    "list_shp\n"
   ]
  },
  {
   "cell_type": "markdown",
   "metadata": {
    "pycharm": {
     "name": "#%% md\n"
    }
   },
   "source": [
    "<br>\n",
    "\n",
    "## Shp to Geojson\n"
   ]
  },
  {
   "cell_type": "code",
   "execution_count": null,
   "metadata": {
    "pycharm": {
     "name": "#%%\n"
    }
   },
   "outputs": [],
   "source": [
    "for shp in list_shp:\n",
    "    # print(shp)\n",
    "    geojson_filename = shp.stem.lower()\n",
    "    print(geojson_filename)\n",
    "\n",
    "    # Read\n",
    "    gdf = gpd.read_file(shp)\n",
    "    gdf = gdf.to_crs(epsg=4326)\n",
    "    gdf.drop(\n",
    "        ['Shape_Area', 'Shape_Leng'],\n",
    "        axis=1,\n",
    "        errors='ignore',\n",
    "        inplace=True\n",
    "    )\n",
    "\n",
    "    # Write\n",
    "    gdf.to_file(\n",
    "        filename=output_path_geojson / f'{geojson_filename}.geojson',\n",
    "        driver='GeoJSON',\n",
    "        encoding='utf-8',\n",
    "    )\n",
    "\n",
    "    gdf.to_file(\n",
    "        filename=output_path_gpkg / f'{geojson_filename}.gpkg',\n",
    "        driver='GPKG',\n",
    "        encoding='utf-8',\n",
    "    )\n"
   ]
  },
  {
   "cell_type": "markdown",
   "metadata": {
    "pycharm": {
     "name": "#%% md\n"
    }
   },
   "source": [
    "<br>\n",
    "\n",
    "## Geojson to GPKG\n"
   ]
  },
  {
   "cell_type": "code",
   "execution_count": null,
   "metadata": {
    "pycharm": {
     "name": "#%%\n"
    }
   },
   "outputs": [],
   "source": [
    "converts.files.convert_to_7zip(output_path_gpkg, output_path_geo)\n"
   ]
  },
  {
   "cell_type": "code",
   "execution_count": null,
   "metadata": {},
   "outputs": [],
   "source": []
  }
 ],
 "metadata": {
  "kernelspec": {
   "display_name": "Python 3.10.6 ('pablocarreira-lastest')",
   "language": "python",
   "name": "python3"
  },
  "language_info": {
   "codemirror_mode": {
    "name": "ipython",
    "version": 3
   },
   "file_extension": ".py",
   "mimetype": "text/x-python",
   "name": "python",
   "nbconvert_exporter": "python",
   "pygments_lexer": "ipython3",
   "version": "3.10.6"
  },
  "vscode": {
   "interpreter": {
    "hash": "4d2082c677fdf35794c222228cc7f22d43df5b8d8a9da3c3f9d9c2f356a8965c"
   }
  }
 },
 "nbformat": 4,
 "nbformat_minor": 4
}
