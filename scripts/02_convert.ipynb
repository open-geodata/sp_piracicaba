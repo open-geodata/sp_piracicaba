{
 "cells": [
  {
   "cell_type": "markdown",
   "metadata": {
    "pycharm": {
     "name": "#%% md\n"
    }
   },
   "source": [
    "<br>\n",
    "\n",
    "# Convert _shp_ to _geojson_\n"
   ]
  },
  {
   "cell_type": "code",
   "execution_count": null,
   "metadata": {
    "collapsed": false,
    "pycharm": {
     "name": "#%%\n"
    }
   },
   "outputs": [],
   "source": [
    "#!pip3 install open_geodata --upgrade"
   ]
  },
  {
   "cell_type": "code",
   "execution_count": 6,
   "metadata": {
    "collapsed": false,
    "pycharm": {
     "name": "#%%\n"
    }
   },
   "outputs": [],
   "source": [
    "import os\n",
    "\n",
    "import geopandas as gpd\n",
    "import open_geodata as geo\n",
    "from paths import (\n",
    "    output_path_geo,\n",
    "    output_path_geojson,\n",
    "    output_path_gpkg,\n",
    "    output_path_shp,\n",
    ")"
   ]
  },
  {
   "cell_type": "code",
   "execution_count": 7,
   "metadata": {},
   "outputs": [
    {
     "data": {
      "text/plain": [
       "[WindowsPath('d:/Codes/GitHub/org_open_geodata/sp_piracicaba/data/output/shp/Divisa_Abairramento.shp'),\n",
       " WindowsPath('d:/Codes/GitHub/org_open_geodata/sp_piracicaba/data/output/shp/Divisa_Municipal.shp'),\n",
       " WindowsPath('d:/Codes/GitHub/org_open_geodata/sp_piracicaba/data/output/shp/Divisa_Perimetro.shp'),\n",
       " WindowsPath('d:/Codes/GitHub/org_open_geodata/sp_piracicaba/data/output/shp/Divisa_UrbanoRural.shp'),\n",
       " WindowsPath('d:/Codes/GitHub/org_open_geodata/sp_piracicaba/data/output/shp/Macrozonas.shp')]"
      ]
     },
     "execution_count": 7,
     "metadata": {},
     "output_type": "execute_result"
    }
   ],
   "source": [
    "list_shp = list(output_path_shp.rglob('*.shp'))\n",
    "list_shp"
   ]
  },
  {
   "cell_type": "markdown",
   "metadata": {
    "collapsed": false,
    "pycharm": {
     "name": "#%% md\n"
    }
   },
   "source": [
    "<br>\n",
    "\n",
    "## Shp to Geojson\n"
   ]
  },
  {
   "cell_type": "code",
   "execution_count": 8,
   "metadata": {
    "collapsed": false,
    "pycharm": {
     "name": "#%%\n"
    }
   },
   "outputs": [
    {
     "name": "stdout",
     "output_type": "stream",
     "text": [
      "divisa_abairramento\n",
      "divisa_municipal\n",
      "divisa_perimetro\n",
      "divisa_urbanorural\n",
      "macrozonas\n"
     ]
    }
   ],
   "source": [
    "for shp in list_shp:\n",
    "    # print(shp)\n",
    "    geojson_filename = shp.stem.lower()\n",
    "    print(geojson_filename)\n",
    "\n",
    "    # Read\n",
    "    gdf = gpd.read_file(shp)\n",
    "    gdf = gdf.to_crs(epsg=4326)\n",
    "    gdf.drop(\n",
    "        ['Shape_Area', 'Shape_Leng'], axis=1, errors='ignore', inplace=True\n",
    "    )\n",
    "\n",
    "    # Write\n",
    "    gdf.to_file(\n",
    "        filename=output_path_geojson / f'{geojson_filename}.geojson',\n",
    "        driver='GeoJSON',\n",
    "        encoding='utf-8',\n",
    "    )\n",
    "\n",
    "    gdf.to_file(\n",
    "        filename=output_path_gpkg / f'{geojson_filename}.gpkg',\n",
    "        driver='GPKG',\n",
    "        encoding='utf-8',\n",
    "    )"
   ]
  },
  {
   "cell_type": "markdown",
   "metadata": {
    "collapsed": false,
    "pycharm": {
     "name": "#%% md\n"
    }
   },
   "source": [
    "<br>\n",
    "\n",
    "## Geojson to GPKG\n"
   ]
  },
  {
   "cell_type": "code",
   "execution_count": 9,
   "metadata": {
    "collapsed": false,
    "pycharm": {
     "name": "#%%\n"
    }
   },
   "outputs": [
    {
     "name": "stdout",
     "output_type": "stream",
     "text": [
      "Arquivo \"divisa_abairramento.gpkg\" convertido para \"divisa_abairramento.7z\"\n",
      "Arquivo \"divisa_municipal.gpkg\" convertido para \"divisa_municipal.7z\"\n",
      "Arquivo \"divisa_perimetro.gpkg\" convertido para \"divisa_perimetro.7z\"\n",
      "Arquivo \"divisa_urbanorural.gpkg\" convertido para \"divisa_urbanorural.7z\"\n",
      "Arquivo \"macrozonas.gpkg\" convertido para \"macrozonas.7z\"\n",
      "Foram convertidos 5 arquivos com sucesso!\n"
     ]
    },
    {
     "data": {
      "text/plain": [
       "0"
      ]
     },
     "execution_count": 9,
     "metadata": {},
     "output_type": "execute_result"
    }
   ],
   "source": [
    "geo.converts.files.convert_to_7zip(output_path_gpkg, output_path_geo)"
   ]
  },
  {
   "cell_type": "code",
   "execution_count": null,
   "metadata": {},
   "outputs": [],
   "source": []
  }
 ],
 "metadata": {
  "kernelspec": {
   "display_name": "pablocarreira-lastest",
   "language": "python",
   "name": "python3"
  },
  "language_info": {
   "codemirror_mode": {
    "name": "ipython",
    "version": 3
   },
   "file_extension": ".py",
   "mimetype": "text/x-python",
   "name": "python",
   "nbconvert_exporter": "python",
   "pygments_lexer": "ipython3",
   "version": "3.12.11"
  }
 },
 "nbformat": 4,
 "nbformat_minor": 4
}
