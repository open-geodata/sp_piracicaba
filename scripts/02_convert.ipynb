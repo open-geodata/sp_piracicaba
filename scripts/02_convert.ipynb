{
 "cells": [
  {
   "cell_type": "markdown",
   "metadata": {
    "pycharm": {
     "name": "#%% md\n"
    }
   },
   "source": [
    "<br>\n",
    "\n",
    "# Convert _shp_ to _geojson_\n"
   ]
  },
  {
   "cell_type": "code",
   "execution_count": 8,
   "metadata": {
    "collapsed": false,
    "pycharm": {
     "name": "#%%\n"
    }
   },
   "outputs": [
    {
     "name": "stdout",
     "output_type": "stream",
     "text": [
      "Requirement already satisfied: open_geodata in c:\\users\\michelsilva\\documents\\apps\\miniconda\\envs\\pablocarreira-py39\\lib\\site-packages (22.6.27)\n",
      "Requirement already satisfied: pandas>=0.10 in c:\\users\\michelsilva\\documents\\apps\\miniconda\\envs\\pablocarreira-py39\\lib\\site-packages (from open_geodata) (1.4.2)\n",
      "Requirement already satisfied: geopandas>=0.10.2 in c:\\users\\michelsilva\\documents\\apps\\miniconda\\envs\\pablocarreira-py39\\lib\\site-packages (from open_geodata) (0.10.2)\n",
      "Requirement already satisfied: setuptools>=58.2.0 in c:\\users\\michelsilva\\documents\\apps\\miniconda\\envs\\pablocarreira-py39\\lib\\site-packages (from open_geodata) (62.3.1)\n",
      "Requirement already satisfied: sidrapy>=0.1.1 in c:\\users\\michelsilva\\documents\\apps\\miniconda\\envs\\pablocarreira-py39\\lib\\site-packages (from open_geodata) (0.1.2)\n",
      "Requirement already satisfied: branca>=0.3.2 in c:\\users\\michelsilva\\documents\\apps\\miniconda\\envs\\pablocarreira-py39\\lib\\site-packages (from open_geodata) (0.5.0)\n",
      "Requirement already satisfied: incremental~=21.3.0 in c:\\users\\michelsilva\\documents\\apps\\miniconda\\envs\\pablocarreira-py39\\lib\\site-packages (from open_geodata) (21.3.0)\n",
      "Requirement already satisfied: shapely>=1.3.0 in c:\\users\\michelsilva\\documents\\apps\\miniconda\\envs\\pablocarreira-py39\\lib\\site-packages (from open_geodata) (1.8.2)\n",
      "Requirement already satisfied: seaborn>=0.10 in c:\\users\\michelsilva\\documents\\apps\\miniconda\\envs\\pablocarreira-py39\\lib\\site-packages (from open_geodata) (0.11.2)\n",
      "Requirement already satisfied: folium>=0.11.0 in c:\\users\\michelsilva\\documents\\apps\\miniconda\\envs\\pablocarreira-py39\\lib\\site-packages (from open_geodata) (0.12.1.post1)\n",
      "Requirement already satisfied: py7zr>=0.18.1 in c:\\users\\michelsilva\\documents\\apps\\miniconda\\envs\\pablocarreira-py39\\lib\\site-packages (from open_geodata) (0.18.6)\n",
      "Requirement already satisfied: jinja2 in c:\\users\\michelsilva\\documents\\apps\\miniconda\\envs\\pablocarreira-py39\\lib\\site-packages (from branca>=0.3.2->open_geodata) (3.1.2)\n",
      "Requirement already satisfied: requests in c:\\users\\michelsilva\\documents\\apps\\miniconda\\envs\\pablocarreira-py39\\lib\\site-packages (from folium>=0.11.0->open_geodata) (2.27.1)\n",
      "Requirement already satisfied: numpy in c:\\users\\michelsilva\\documents\\apps\\miniconda\\envs\\pablocarreira-py39\\lib\\site-packages (from folium>=0.11.0->open_geodata) (1.22.3)\n",
      "Requirement already satisfied: pyproj>=2.2.0 in c:\\users\\michelsilva\\documents\\apps\\miniconda\\envs\\pablocarreira-py39\\lib\\site-packages (from geopandas>=0.10.2->open_geodata) (3.3.1)\n",
      "Requirement already satisfied: fiona>=1.8 in c:\\users\\michelsilva\\documents\\apps\\miniconda\\envs\\pablocarreira-py39\\lib\\site-packages (from geopandas>=0.10.2->open_geodata) (1.8.21)\n",
      "Requirement already satisfied: python-dateutil>=2.8.1 in c:\\users\\michelsilva\\documents\\apps\\miniconda\\envs\\pablocarreira-py39\\lib\\site-packages (from pandas>=0.10->open_geodata) (2.8.2)\n",
      "Requirement already satisfied: pytz>=2020.1 in c:\\users\\michelsilva\\documents\\apps\\miniconda\\envs\\pablocarreira-py39\\lib\\site-packages (from pandas>=0.10->open_geodata) (2022.1)\n",
      "Requirement already satisfied: zipfile-deflate64>=0.2.0 in c:\\users\\michelsilva\\documents\\apps\\miniconda\\envs\\pablocarreira-py39\\lib\\site-packages (from py7zr>=0.18.1->open_geodata) (0.2.0)\n",
      "Requirement already satisfied: brotli>=1.0.9 in c:\\users\\michelsilva\\documents\\apps\\miniconda\\envs\\pablocarreira-py39\\lib\\site-packages (from py7zr>=0.18.1->open_geodata) (1.0.9)\n",
      "Requirement already satisfied: pybcj>=0.6.0 in c:\\users\\michelsilva\\documents\\apps\\miniconda\\envs\\pablocarreira-py39\\lib\\site-packages (from py7zr>=0.18.1->open_geodata) (0.6.0)\n",
      "Requirement already satisfied: pyppmd<0.19.0,>=0.18.1 in c:\\users\\michelsilva\\documents\\apps\\miniconda\\envs\\pablocarreira-py39\\lib\\site-packages (from py7zr>=0.18.1->open_geodata) (0.18.2)\n",
      "Requirement already satisfied: texttable in c:\\users\\michelsilva\\documents\\apps\\miniconda\\envs\\pablocarreira-py39\\lib\\site-packages (from py7zr>=0.18.1->open_geodata) (1.6.4)\n",
      "Requirement already satisfied: pyzstd>=0.14.4 in c:\\users\\michelsilva\\documents\\apps\\miniconda\\envs\\pablocarreira-py39\\lib\\site-packages (from py7zr>=0.18.1->open_geodata) (0.15.2)\n",
      "Requirement already satisfied: psutil in c:\\users\\michelsilva\\documents\\apps\\miniconda\\envs\\pablocarreira-py39\\lib\\site-packages (from py7zr>=0.18.1->open_geodata) (5.9.0)\n",
      "Requirement already satisfied: multivolumefile>=0.2.3 in c:\\users\\michelsilva\\documents\\apps\\miniconda\\envs\\pablocarreira-py39\\lib\\site-packages (from py7zr>=0.18.1->open_geodata) (0.2.3)\n",
      "Requirement already satisfied: pycryptodomex>=3.6.6 in c:\\users\\michelsilva\\documents\\apps\\miniconda\\envs\\pablocarreira-py39\\lib\\site-packages (from py7zr>=0.18.1->open_geodata) (3.14.1)\n",
      "Requirement already satisfied: scipy>=1.0 in c:\\users\\michelsilva\\documents\\apps\\miniconda\\envs\\pablocarreira-py39\\lib\\site-packages (from seaborn>=0.10->open_geodata) (1.8.0)\n",
      "Requirement already satisfied: matplotlib>=2.2 in c:\\users\\michelsilva\\documents\\apps\\miniconda\\envs\\pablocarreira-py39\\lib\\site-packages (from seaborn>=0.10->open_geodata) (3.5.2)\n",
      "Requirement already satisfied: attrs>=17 in c:\\users\\michelsilva\\documents\\apps\\miniconda\\envs\\pablocarreira-py39\\lib\\site-packages (from fiona>=1.8->geopandas>=0.10.2->open_geodata) (21.4.0)\n",
      "Requirement already satisfied: certifi in c:\\users\\michelsilva\\documents\\apps\\miniconda\\envs\\pablocarreira-py39\\lib\\site-packages (from fiona>=1.8->geopandas>=0.10.2->open_geodata) (2021.10.8)\n",
      "Requirement already satisfied: click>=4.0 in c:\\users\\michelsilva\\documents\\apps\\miniconda\\envs\\pablocarreira-py39\\lib\\site-packages (from fiona>=1.8->geopandas>=0.10.2->open_geodata) (8.1.3)\n",
      "Requirement already satisfied: cligj>=0.5 in c:\\users\\michelsilva\\documents\\apps\\miniconda\\envs\\pablocarreira-py39\\lib\\site-packages (from fiona>=1.8->geopandas>=0.10.2->open_geodata) (0.7.2)\n",
      "Requirement already satisfied: click-plugins>=1.0 in c:\\users\\michelsilva\\documents\\apps\\miniconda\\envs\\pablocarreira-py39\\lib\\site-packages (from fiona>=1.8->geopandas>=0.10.2->open_geodata) (1.1.1)\n",
      "Requirement already satisfied: six>=1.7 in c:\\users\\michelsilva\\documents\\apps\\miniconda\\envs\\pablocarreira-py39\\lib\\site-packages (from fiona>=1.8->geopandas>=0.10.2->open_geodata) (1.16.0)\n",
      "Requirement already satisfied: munch in c:\\users\\michelsilva\\documents\\apps\\miniconda\\envs\\pablocarreira-py39\\lib\\site-packages (from fiona>=1.8->geopandas>=0.10.2->open_geodata) (2.5.0)\n",
      "Requirement already satisfied: MarkupSafe>=2.0 in c:\\users\\michelsilva\\documents\\apps\\miniconda\\envs\\pablocarreira-py39\\lib\\site-packages (from jinja2->branca>=0.3.2->open_geodata) (2.1.1)\n",
      "Requirement already satisfied: packaging>=20.0 in c:\\users\\michelsilva\\documents\\apps\\miniconda\\envs\\pablocarreira-py39\\lib\\site-packages (from matplotlib>=2.2->seaborn>=0.10->open_geodata) (21.3)\n",
      "Requirement already satisfied: cycler>=0.10 in c:\\users\\michelsilva\\documents\\apps\\miniconda\\envs\\pablocarreira-py39\\lib\\site-packages (from matplotlib>=2.2->seaborn>=0.10->open_geodata) (0.11.0)\n",
      "Requirement already satisfied: pyparsing>=2.2.1 in c:\\users\\michelsilva\\documents\\apps\\miniconda\\envs\\pablocarreira-py39\\lib\\site-packages (from matplotlib>=2.2->seaborn>=0.10->open_geodata) (3.0.9)\n",
      "Requirement already satisfied: fonttools>=4.22.0 in c:\\users\\michelsilva\\documents\\apps\\miniconda\\envs\\pablocarreira-py39\\lib\\site-packages (from matplotlib>=2.2->seaborn>=0.10->open_geodata) (4.33.3)\n",
      "Requirement already satisfied: pillow>=6.2.0 in c:\\users\\michelsilva\\documents\\apps\\miniconda\\envs\\pablocarreira-py39\\lib\\site-packages (from matplotlib>=2.2->seaborn>=0.10->open_geodata) (9.1.1)\n",
      "Requirement already satisfied: kiwisolver>=1.0.1 in c:\\users\\michelsilva\\documents\\apps\\miniconda\\envs\\pablocarreira-py39\\lib\\site-packages (from matplotlib>=2.2->seaborn>=0.10->open_geodata) (1.4.2)\n",
      "Requirement already satisfied: urllib3<1.27,>=1.21.1 in c:\\users\\michelsilva\\documents\\apps\\miniconda\\envs\\pablocarreira-py39\\lib\\site-packages (from requests->folium>=0.11.0->open_geodata) (1.26.9)\n",
      "Requirement already satisfied: charset-normalizer~=2.0.0 in c:\\users\\michelsilva\\documents\\apps\\miniconda\\envs\\pablocarreira-py39\\lib\\site-packages (from requests->folium>=0.11.0->open_geodata) (2.0.12)\n",
      "Requirement already satisfied: idna<4,>=2.5 in c:\\users\\michelsilva\\documents\\apps\\miniconda\\envs\\pablocarreira-py39\\lib\\site-packages (from requests->folium>=0.11.0->open_geodata) (3.3)\n",
      "Requirement already satisfied: colorama in c:\\users\\michelsilva\\documents\\apps\\miniconda\\envs\\pablocarreira-py39\\lib\\site-packages (from click>=4.0->fiona>=1.8->geopandas>=0.10.2->open_geodata) (0.4.4)\n"
     ]
    }
   ],
   "source": [
    "!pip3 install open_geodata --upgrade\n"
   ]
  },
  {
   "cell_type": "code",
   "execution_count": 9,
   "metadata": {
    "collapsed": false,
    "pycharm": {
     "name": "#%%\n"
    }
   },
   "outputs": [],
   "source": [
    "import os\n",
    "import geopandas as gpd\n"
   ]
  },
  {
   "cell_type": "code",
   "execution_count": 10,
   "metadata": {
    "collapsed": false,
    "pycharm": {
     "name": "#%%\n"
    }
   },
   "outputs": [],
   "source": [
    "from open_geodata import converts\n"
   ]
  },
  {
   "cell_type": "code",
   "execution_count": 11,
   "metadata": {
    "collapsed": false,
    "pycharm": {
     "name": "#%%\n"
    }
   },
   "outputs": [],
   "source": [
    "from paths import *\n"
   ]
  },
  {
   "cell_type": "code",
   "execution_count": 12,
   "metadata": {},
   "outputs": [
    {
     "data": {
      "text/plain": [
       "[WindowsPath('c:/Users/michelsilva/Codes/open_geodata/sp_piracicaba/sp_piracicaba/data/output/shp/Divisa_Abairramento.shp'),\n",
       " WindowsPath('c:/Users/michelsilva/Codes/open_geodata/sp_piracicaba/sp_piracicaba/data/output/shp/Divisa_Municipal.shp'),\n",
       " WindowsPath('c:/Users/michelsilva/Codes/open_geodata/sp_piracicaba/sp_piracicaba/data/output/shp/Divisa_Perimetro.shp'),\n",
       " WindowsPath('c:/Users/michelsilva/Codes/open_geodata/sp_piracicaba/sp_piracicaba/data/output/shp/Divisa_UrbanoRural.shp'),\n",
       " WindowsPath('c:/Users/michelsilva/Codes/open_geodata/sp_piracicaba/sp_piracicaba/data/output/shp/Macrozonas.shp')]"
      ]
     },
     "execution_count": 12,
     "metadata": {},
     "output_type": "execute_result"
    }
   ],
   "source": [
    "list_shp = list(output_path_shp.rglob('*.shp'))\n",
    "list_shp\n"
   ]
  },
  {
   "cell_type": "markdown",
   "metadata": {
    "collapsed": false,
    "pycharm": {
     "name": "#%% md\n"
    }
   },
   "source": [
    "<br>\n",
    "\n",
    "## Shp to Geojson\n"
   ]
  },
  {
   "cell_type": "code",
   "execution_count": 13,
   "metadata": {
    "collapsed": false,
    "pycharm": {
     "name": "#%%\n"
    }
   },
   "outputs": [
    {
     "name": "stdout",
     "output_type": "stream",
     "text": [
      "divisa_abairramento\n"
     ]
    },
    {
     "name": "stderr",
     "output_type": "stream",
     "text": [
      "c:\\Users\\michelsilva\\Documents\\Apps\\Miniconda\\envs\\pablocarreira-py39\\lib\\site-packages\\geopandas\\io\\file.py:362: FutureWarning: pandas.Int64Index is deprecated and will be removed from pandas in a future version. Use pandas.Index with the appropriate dtype instead.\n",
      "  pd.Int64Index,\n",
      "c:\\Users\\michelsilva\\Documents\\Apps\\Miniconda\\envs\\pablocarreira-py39\\lib\\site-packages\\geopandas\\io\\file.py:362: FutureWarning: pandas.Int64Index is deprecated and will be removed from pandas in a future version. Use pandas.Index with the appropriate dtype instead.\n",
      "  pd.Int64Index,\n"
     ]
    },
    {
     "name": "stdout",
     "output_type": "stream",
     "text": [
      "divisa_municipal\n"
     ]
    },
    {
     "name": "stderr",
     "output_type": "stream",
     "text": [
      "c:\\Users\\michelsilva\\Documents\\Apps\\Miniconda\\envs\\pablocarreira-py39\\lib\\site-packages\\geopandas\\io\\file.py:362: FutureWarning: pandas.Int64Index is deprecated and will be removed from pandas in a future version. Use pandas.Index with the appropriate dtype instead.\n",
      "  pd.Int64Index,\n",
      "c:\\Users\\michelsilva\\Documents\\Apps\\Miniconda\\envs\\pablocarreira-py39\\lib\\site-packages\\geopandas\\io\\file.py:362: FutureWarning: pandas.Int64Index is deprecated and will be removed from pandas in a future version. Use pandas.Index with the appropriate dtype instead.\n",
      "  pd.Int64Index,\n"
     ]
    },
    {
     "name": "stdout",
     "output_type": "stream",
     "text": [
      "divisa_perimetro\n"
     ]
    },
    {
     "name": "stderr",
     "output_type": "stream",
     "text": [
      "c:\\Users\\michelsilva\\Documents\\Apps\\Miniconda\\envs\\pablocarreira-py39\\lib\\site-packages\\geopandas\\io\\file.py:362: FutureWarning: pandas.Int64Index is deprecated and will be removed from pandas in a future version. Use pandas.Index with the appropriate dtype instead.\n",
      "  pd.Int64Index,\n",
      "c:\\Users\\michelsilva\\Documents\\Apps\\Miniconda\\envs\\pablocarreira-py39\\lib\\site-packages\\geopandas\\io\\file.py:362: FutureWarning: pandas.Int64Index is deprecated and will be removed from pandas in a future version. Use pandas.Index with the appropriate dtype instead.\n",
      "  pd.Int64Index,\n"
     ]
    },
    {
     "name": "stdout",
     "output_type": "stream",
     "text": [
      "divisa_urbanorural\n"
     ]
    },
    {
     "name": "stderr",
     "output_type": "stream",
     "text": [
      "c:\\Users\\michelsilva\\Documents\\Apps\\Miniconda\\envs\\pablocarreira-py39\\lib\\site-packages\\geopandas\\io\\file.py:362: FutureWarning: pandas.Int64Index is deprecated and will be removed from pandas in a future version. Use pandas.Index with the appropriate dtype instead.\n",
      "  pd.Int64Index,\n",
      "c:\\Users\\michelsilva\\Documents\\Apps\\Miniconda\\envs\\pablocarreira-py39\\lib\\site-packages\\geopandas\\io\\file.py:362: FutureWarning: pandas.Int64Index is deprecated and will be removed from pandas in a future version. Use pandas.Index with the appropriate dtype instead.\n",
      "  pd.Int64Index,\n"
     ]
    },
    {
     "name": "stdout",
     "output_type": "stream",
     "text": [
      "macrozonas\n"
     ]
    },
    {
     "name": "stderr",
     "output_type": "stream",
     "text": [
      "c:\\Users\\michelsilva\\Documents\\Apps\\Miniconda\\envs\\pablocarreira-py39\\lib\\site-packages\\geopandas\\io\\file.py:362: FutureWarning: pandas.Int64Index is deprecated and will be removed from pandas in a future version. Use pandas.Index with the appropriate dtype instead.\n",
      "  pd.Int64Index,\n",
      "c:\\Users\\michelsilva\\Documents\\Apps\\Miniconda\\envs\\pablocarreira-py39\\lib\\site-packages\\geopandas\\io\\file.py:362: FutureWarning: pandas.Int64Index is deprecated and will be removed from pandas in a future version. Use pandas.Index with the appropriate dtype instead.\n",
      "  pd.Int64Index,\n"
     ]
    }
   ],
   "source": [
    "for shp in list_shp:\n",
    "    # print(shp)\n",
    "    geojson_filename = shp.stem.lower()\n",
    "    print(geojson_filename)\n",
    "\n",
    "    # Read\n",
    "    gdf = gpd.read_file(shp)\n",
    "    gdf = gdf.to_crs(epsg=4326)\n",
    "    gdf.drop(\n",
    "        ['Shape_Area', 'Shape_Leng'],\n",
    "        axis=1,\n",
    "        errors='ignore',\n",
    "        inplace=True\n",
    "    )\n",
    "\n",
    "    # Write\n",
    "    gdf.to_file(\n",
    "        filename=output_path_geojson / f'{geojson_filename}.geojson',\n",
    "        driver='GeoJSON',\n",
    "        encoding='utf-8',\n",
    "    )\n",
    "\n",
    "    gdf.to_file(\n",
    "        filename=output_path_gpkg / f'{geojson_filename}.gpkg',\n",
    "        driver='GPKG',\n",
    "        encoding='utf-8',\n",
    "    )\n"
   ]
  },
  {
   "cell_type": "markdown",
   "metadata": {
    "collapsed": false,
    "pycharm": {
     "name": "#%% md\n"
    }
   },
   "source": [
    "<br>\n",
    "\n",
    "## Geojson to GPKG\n"
   ]
  },
  {
   "cell_type": "code",
   "execution_count": 14,
   "metadata": {
    "collapsed": false,
    "pycharm": {
     "name": "#%%\n"
    }
   },
   "outputs": [
    {
     "name": "stdout",
     "output_type": "stream",
     "text": [
      "Arquivo \"divisa_abairramento.gpkg\" convertido para \"divisa_abairramento.7z\"\n",
      "Arquivo \"divisa_municipal.gpkg\" convertido para \"divisa_municipal.7z\"\n",
      "Arquivo \"divisa_perimetro.gpkg\" convertido para \"divisa_perimetro.7z\"\n",
      "Arquivo \"divisa_urbanorural.gpkg\" convertido para \"divisa_urbanorural.7z\"\n",
      "Arquivo \"macrozonas.gpkg\" convertido para \"macrozonas.7z\"\n",
      "Foram convertidos 5 arquivos com sucesso!\n"
     ]
    },
    {
     "data": {
      "text/plain": [
       "0"
      ]
     },
     "execution_count": 14,
     "metadata": {},
     "output_type": "execute_result"
    }
   ],
   "source": [
    "converts.files.convert_to_7zip(output_path_gpkg, output_path_geo)\n"
   ]
  },
  {
   "cell_type": "code",
   "execution_count": null,
   "metadata": {},
   "outputs": [],
   "source": []
  }
 ],
 "metadata": {
  "kernelspec": {
   "display_name": "Python 3.9.12 ('pablocarreira-py39')",
   "language": "python",
   "name": "python3"
  },
  "language_info": {
   "codemirror_mode": {
    "name": "ipython",
    "version": 3
   },
   "file_extension": ".py",
   "mimetype": "text/x-python",
   "name": "python",
   "nbconvert_exporter": "python",
   "pygments_lexer": "ipython3",
   "version": "3.9.12"
  },
  "vscode": {
   "interpreter": {
    "hash": "f37c76b4b024ed38c9f50f17f9e6defabebb1e5c97323517c6e8bca54ae41c65"
   }
  }
 },
 "nbformat": 4,
 "nbformat_minor": 4
}
