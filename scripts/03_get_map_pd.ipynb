{
 "cells": [
  {
   "cell_type": "markdown",
   "metadata": {
    "pycharm": {
     "name": "#%% md\n"
    }
   },
   "source": [
    "<br>\n",
    "\n",
    "# Maps"
   ]
  },
  {
   "cell_type": "code",
   "execution_count": null,
   "metadata": {
    "collapsed": false,
    "jupyter": {
     "outputs_hidden": false
    },
    "pycharm": {
     "name": "#%%\n"
    }
   },
   "outputs": [],
   "source": [
    "#!pip3 install open-geodata --upgrade\n",
    "#!pip3 install sp-piracicaba"
   ]
  },
  {
   "cell_type": "code",
   "execution_count": null,
   "metadata": {
    "pycharm": {
     "name": "#%%\n"
    }
   },
   "outputs": [],
   "source": [
    "import folium\n",
    "import geopandas as gpd\n",
    "import open_geodata as geo\n",
    "from folium import plugins\n",
    "from paths import *"
   ]
  },
  {
   "cell_type": "code",
   "execution_count": null,
   "metadata": {},
   "outputs": [],
   "source": [
    "# import json\n",
    "# import os\n",
    "# from datetime import date\n",
    "# import os\n",
    "# import webbrowser\n",
    "# import branca as bc\n",
    "# import fiona\n",
    "# import pandas as pd\n",
    "# import seaborn as sns\n",
    "# import sp_piracicaba.lyr"
   ]
  },
  {
   "cell_type": "markdown",
   "metadata": {},
   "source": [
    "<br>\n",
    "\n",
    "## Maps"
   ]
  },
  {
   "cell_type": "code",
   "execution_count": null,
   "metadata": {
    "collapsed": false,
    "pycharm": {
     "name": "#%%\n"
    }
   },
   "outputs": [],
   "source": [
    "#list_shp = geo.get_dataset_from_package('sp_piracicaba')\n",
    "#list_shp"
   ]
  },
  {
   "cell_type": "code",
   "execution_count": null,
   "metadata": {
    "pycharm": {
     "name": "#%%\n"
    }
   },
   "outputs": [],
   "source": [
    "# List geodataframes\n",
    "# geo.get_dataset_names()\n",
    "gdf = geo.load_dataset(db='sp_piracicaba', name='geo.divisa_municipal')"
   ]
  },
  {
   "cell_type": "code",
   "execution_count": null,
   "metadata": {},
   "outputs": [],
   "source": []
  },
  {
   "cell_type": "code",
   "execution_count": null,
   "metadata": {},
   "outputs": [],
   "source": [
    "\n",
    "def macrozona():\n",
    "    # Input\n",
    "    gdf = geo.load_dataset_from_package('sp_piracicaba', 'geo.macrozonas')\n",
    "    gdf = gdf.to_crs(epsg=4326)\n",
    "\n",
    "    # Set dictionary\n",
    "    colors = {\n",
    "        'MADE': '#0173b2',\n",
    "        'MANU': '#de8f05',\n",
    "        'MAPH': '#029e73',\n",
    "        'MCU': '#d55e00',\n",
    "        'MRU': '#cc78bc',\n",
    "        'MUC': '#ca9161'\n",
    "    }\n",
    "\n",
    "    # Popup\n",
    "    gdf['PopUp'] = gdf.apply(popup_macrozona, axis=1)\n",
    "\n",
    "    # Layer\n",
    "    return folium.features.GeoJson(\n",
    "        gdf,\n",
    "        name='Macrozoneamento',\n",
    "        style_function=lambda x: {\n",
    "            'fillColor': colors[x['properties']['Macrozona']],\n",
    "            'color': colors[x['properties']['Macrozona']],\n",
    "            'weight': 0,\n",
    "            'fillOpacity': 0.3\n",
    "        },\n",
    "        popup=folium.GeoJsonPopup(\n",
    "            fields=['PopUp'],\n",
    "            aliases=['Macrozona'],\n",
    "            labels=False,\n",
    "            sticky=True,\n",
    "            localize=True,\n",
    "            style=f\"\"\"\n",
    "            background-color: #F0EFEF;\n",
    "            \"\"\",\n",
    "            parse_html=True,\n",
    "            max_width=400,\n",
    "        ),\n",
    "        tooltip=folium.features.GeoJsonTooltip(\n",
    "            fields=['Macrozona', ],\n",
    "            aliases=['Macrozona', ],\n",
    "            labels=True,\n",
    "            sticky=True,\n",
    "            opacity=0.9,\n",
    "            direction='auto',\n",
    "        ),\n",
    "        highlight_function=lambda x: {\n",
    "            'weight': 3\n",
    "        },\n",
    "        embed=False,\n",
    "        zoom_on_click=False,\n",
    "        control=True,\n",
    "        show=False,\n",
    "    )\n",
    "\n",
    "\n",
    "# PopUp\n",
    "def popup_macrozona(row):\n",
    "    descriptions = {\n",
    "        'MADE': 'Macrozona de Desenvolvimento Rural',\n",
    "        'MANU': 'Macrozona de Núcleos Urbanos Isolados',\n",
    "        'MAPH': 'Macrozona de Proteção Hídrica e Ambiental',\n",
    "        'MCU': 'Macrozona de Contenção Urbana',\n",
    "        'MRU': 'Macrozona de Restrição Urbana',\n",
    "        'MUC': 'Macrozona de Urbanização Consolidada',\n",
    "    }\n",
    "    macrozona = row['Macrozona']\n",
    "    description = descriptions[macrozona]\n",
    "    return f\"\"\"\n",
    "    <div>\n",
    "    <h4>Plano Diretor de Piracicaba</h4>\n",
    "    <h5>Lei Complementar nº 405/2019</h5>\n",
    "    <b>{description}</b>\n",
    "    </div>    \n",
    "    \"\"\"\n",
    "    \n",
    "\n",
    "\n",
    "def perimetro_urbano():\n",
    "    # Input\n",
    "    gdf = geo.load_dataset_from_package('sp_piracicaba', 'geo.divisa_perimetro')\n",
    "    gdf = gdf.to_crs(epsg=4326)\n",
    "\n",
    "    # Layer\n",
    "    return folium.features.GeoJson(\n",
    "        gdf,\n",
    "        name='Perimetro Urbano',\n",
    "        style_function=lambda x: {\n",
    "            'fillColor': '#E1E1E1',\n",
    "            'color': '#E1E1E1',\n",
    "            'weight': 2,\n",
    "            'fillOpacity': 0.5,\n",
    "        },\n",
    "        tooltip=folium.features.GeoJsonTooltip(\n",
    "            fields=['Nome', ],\n",
    "            aliases=['Nome', ],\n",
    "            labels=True,\n",
    "            sticky=True,\n",
    "            opacity=0.9,\n",
    "            direction='auto',\n",
    "        ),\n",
    "        embed=False,\n",
    "        zoom_on_click=False,\n",
    "        control=True,\n",
    "        show=False,\n",
    "    )\n",
    "\n",
    "\n",
    "def divisa_municipal():\n",
    "    # Input\n",
    "    gdf = geo.load_dataset_from_package('sp_piracicaba', 'geo.divisa_municipal')\n",
    "    gdf = gdf.to_crs(epsg=4326)\n",
    "\n",
    "    # Layer\n",
    "    return folium.features.GeoJson(\n",
    "        gdf,\n",
    "        name='Divisão Municipal',\n",
    "        style_function=lambda x: {\n",
    "            'fillColor': '#FAE878',\n",
    "            'color': '#FAE878',\n",
    "            'weight': 2,\n",
    "            'fillOpacity': 0.0,\n",
    "        },\n",
    "        embed=False,\n",
    "        zoom_on_click=False,\n",
    "        control=True,\n",
    "        show=True,\n",
    "    )\n",
    "\n",
    "\n",
    "def divisa_urbano_rural():\n",
    "    # Input\n",
    "    gdf = geo.load_dataset_from_package('sp_piracicaba', 'geo.divisa_urbanorural')\n",
    "    gdf = gdf.to_crs(epsg=4326)\n",
    "\n",
    "    # Set dictionary\n",
    "    colors = {\n",
    "        'Área Rural': '#F1A51F',\n",
    "        'Área Urbana': '##E1E1E1',\n",
    "    }\n",
    "\n",
    "    # Layer\n",
    "    return folium.features.GeoJson(\n",
    "        gdf,\n",
    "        name='Divisão Urbano Rural',\n",
    "        style_function=lambda x: {\n",
    "            'fillColor': colors[x['properties']['Area']],\n",
    "            'color': colors[x['properties']['Area']],\n",
    "            'weight': 1,\n",
    "            'fillOpacity': 0.3\n",
    "        },\n",
    "        embed=False,\n",
    "        zoom_on_click=False,\n",
    "        control=True,\n",
    "        show=False,\n",
    "    )\n",
    "\n",
    "\n",
    "def divisa_abairramento():\n",
    "    # Input\n",
    "    gdf = geo.load_dataset_from_package('sp_piracicaba', 'geo.divisa_abairramento')\n",
    "    gdf = gdf.to_crs(epsg=4326)\n",
    "\n",
    "    # Layer\n",
    "    return folium.features.GeoJson(\n",
    "        gdf,\n",
    "        name='Divisão Abairramento',\n",
    "        style_function=lambda x: {\n",
    "            'fillColor': '#CFCFCF',\n",
    "            'color': '#CFCFCF',\n",
    "            'weight': 1,\n",
    "            'fillOpacity': 0.3\n",
    "        },\n",
    "        tooltip=folium.features.GeoJsonTooltip(\n",
    "            fields=['NomeBairro'],\n",
    "            aliases=['Bairro'],\n",
    "            labels=True,\n",
    "            sticky=True,\n",
    "            opacity=0.9,\n",
    "            direction='auto',\n",
    "        ),\n",
    "        highlight_function=lambda x: {\n",
    "            'weight': 3\n",
    "        },\n",
    "        embed=False,\n",
    "        zoom_on_click=False,\n",
    "        control=True,\n",
    "        show=False,\n",
    "    )\n"
   ]
  },
  {
   "cell_type": "markdown",
   "metadata": {
    "pycharm": {
     "name": "#%% md\n"
    }
   },
   "source": [
    "<br>\n",
    "\n",
    "# Mapa Plano Diretor"
   ]
  },
  {
   "cell_type": "code",
   "execution_count": null,
   "metadata": {
    "pycharm": {
     "name": "#%%\n"
    }
   },
   "outputs": [],
   "source": [
    "def get_map(input_shp):\n",
    "    # Input\n",
    "    gdf = gpd.read_file(input_shp)\n",
    "    gdf = gdf.to_crs(epsg=4326)\n",
    "    sw = gdf.bounds[['miny', 'minx']].min().values.tolist()\n",
    "    ne = gdf.bounds[['maxy', 'maxx']].max().values.tolist()\n",
    "    bounds = [sw, ne]\n",
    "    \n",
    "    # Zoom\n",
    "    min_zoom = 10\n",
    "    max_zoom = 18\n",
    "\n",
    "    # Create Map\n",
    "    m = folium.Map(\n",
    "        #location=list_centroid,\n",
    "        #zoom_start=10,\n",
    "        min_zoom=min_zoom,\n",
    "        max_zoom=max_zoom,\n",
    "        max_bounds=True,\n",
    "        #zoom_delta=0.1,\n",
    "        min_lat=bounds[0][0]*(101/100),\n",
    "        min_lon=bounds[0][1]*(101/100),\n",
    "        max_lat=bounds[1][0]*(99/100),\n",
    "        max_lon=bounds[1][1]*(99/100),\n",
    "        tiles=None,\n",
    "    )\n",
    "    \n",
    "    # Add Base Layers\n",
    "    m.add_child(lyr.base.google_hybrid(min_zoom, max_zoom))\n",
    "    m.add_child(lyr.base.google_terrain(min_zoom, max_zoom))\n",
    "    m.add_child(lyr.base.google_streets(min_zoom, max_zoom))\n",
    "    m.add_child(lyr.base.google_satellite(min_zoom, max_zoom))\n",
    "    \n",
    "    # Plano Diretor\n",
    "    m.add_child(sp_piracicaba.lyr.divisa_municipal())\n",
    "    m.add_child(sp_piracicaba.lyr.macrozona())\n",
    "    m.add_child(sp_piracicaba.lyr.divisa_abairramento())\n",
    "    m.add_child(sp_piracicaba.lyr.divisa_urbano_rural())\n",
    "    m.add_child(sp_piracicaba.lyr.perimetro_urbano())\n",
    "    \n",
    "    # Plugins\n",
    "    m.fit_bounds(bounds)\n",
    "    plugins.Fullscreen(\n",
    "        position='topleft',\n",
    "        title='Clique para Maximizar',\n",
    "        title_cancel='Mininizar',\n",
    "    ).add_to(m)\n",
    "    folium.LayerControl(\n",
    "        position='topright',\n",
    "        collapsed=False\n",
    "    ).add_to(m)\n",
    "    return m"
   ]
  },
  {
   "cell_type": "code",
   "execution_count": null,
   "metadata": {
    "pycharm": {
     "name": "#%%\n"
    }
   },
   "outputs": [],
   "source": [
    "m = get_map(output_path_shp / 'Divisa_Municipal.shp')\n",
    "\n",
    "# Results\n",
    "m.save(output_path_map / 'map_pd_piracicaba.html')\n",
    "m"
   ]
  },
  {
   "cell_type": "code",
   "execution_count": null,
   "metadata": {
    "pycharm": {
     "name": "#%%\n"
    }
   },
   "outputs": [],
   "source": []
  }
 ],
 "metadata": {
  "kernelspec": {
   "display_name": "pablocarreira-lastest",
   "language": "python",
   "name": "python3"
  },
  "language_info": {
   "codemirror_mode": {
    "name": "ipython",
    "version": 3
   },
   "file_extension": ".py",
   "mimetype": "text/x-python",
   "name": "python",
   "nbconvert_exporter": "python",
   "pygments_lexer": "ipython3",
   "version": "3.12.11"
  },
  "toc-autonumbering": true
 },
 "nbformat": 4,
 "nbformat_minor": 4
}
