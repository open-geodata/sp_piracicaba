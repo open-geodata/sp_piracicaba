{
 "cells": [
  {
   "cell_type": "markdown",
   "metadata": {
    "pycharm": {
     "name": "#%% md\n"
    }
   },
   "source": [
    "<br>\n",
    "\n",
    "# Maps"
   ]
  },
  {
   "cell_type": "code",
   "execution_count": null,
   "metadata": {
    "jupyter": {
     "outputs_hidden": false
    },
    "pycharm": {
     "name": "#%%\n"
    }
   },
   "outputs": [],
   "source": [
    "!pip3 install open-geodata --upgrade\n",
    "!pip3 install sp-piracicaba"
   ]
  },
  {
   "cell_type": "code",
   "execution_count": null,
   "metadata": {
    "pycharm": {
     "name": "#%%\n"
    }
   },
   "outputs": [],
   "source": [
    "import os\n",
    "import json\n",
    "import fiona\n",
    "import folium\n",
    "import pandas as pd\n",
    "import branca as bc\n",
    "import seaborn as sns\n",
    "import geopandas as gpd\n",
    "from datetime import date\n",
    "from folium import plugins"
   ]
  },
  {
   "cell_type": "code",
   "execution_count": null,
   "metadata": {
    "pycharm": {
     "name": "#%%\n"
    }
   },
   "outputs": [],
   "source": [
    "from open_geodata import geo, lyr"
   ]
  },
  {
   "cell_type": "code",
   "execution_count": null,
   "metadata": {
    "jupyter": {
     "outputs_hidden": false
    },
    "pycharm": {
     "name": "#%%\n"
    }
   },
   "outputs": [],
   "source": [
    "from paths import *"
   ]
  },
  {
   "cell_type": "code",
   "execution_count": null,
   "metadata": {
    "pycharm": {
     "name": "#%%\n"
    }
   },
   "outputs": [],
   "source": [
    "import src.sp_piracicaba.lyr"
   ]
  },
  {
   "cell_type": "code",
   "execution_count": null,
   "metadata": {
    "pycharm": {
     "name": "#%%\n"
    }
   },
   "outputs": [],
   "source": [
    "list_shp = geo.get_dataset_names_others('sp_piracicaba')\n",
    "list_shp"
   ]
  },
  {
   "cell_type": "code",
   "execution_count": null,
   "metadata": {
    "pycharm": {
     "name": "#%%\n"
    }
   },
   "outputs": [],
   "source": [
    "# List geodataframes\n",
    "geo.get_dataset_names()\n",
    "gdf = geo.load_dataset_others('sp_piracicaba', 'divisa_municipal.7z')"
   ]
  },
  {
   "cell_type": "markdown",
   "metadata": {
    "pycharm": {
     "name": "#%% md\n"
    }
   },
   "source": [
    "<br>\n",
    "\n",
    "# Layers"
   ]
  },
  {
   "cell_type": "markdown",
   "metadata": {
    "pycharm": {
     "name": "#%% md\n"
    }
   },
   "source": [
    "<br>\n",
    "\n",
    "# Mapa Plano Diretor"
   ]
  },
  {
   "cell_type": "code",
   "execution_count": null,
   "metadata": {
    "pycharm": {
     "name": "#%%\n"
    }
   },
   "outputs": [],
   "source": [
    "def get_map(input_shp):\n",
    "    # Input\n",
    "    gdf = gpd.read_file(input_shp)\n",
    "    gdf = gdf.to_crs(epsg=4326)\n",
    "    sw = gdf.bounds[['miny', 'minx']].min().values.tolist()\n",
    "    ne = gdf.bounds[['maxy', 'maxx']].max().values.tolist()\n",
    "    bounds = [sw, ne]\n",
    "    \n",
    "    # Zoom\n",
    "    min_zoom = 10\n",
    "    max_zoom = 18\n",
    "\n",
    "    # Create Map\n",
    "    m = folium.Map(\n",
    "        #location=list_centroid,\n",
    "        #zoom_start=10,\n",
    "        min_zoom=min_zoom,\n",
    "        max_zoom=max_zoom,\n",
    "        max_bounds=True,\n",
    "        #zoom_delta=0.1,\n",
    "        min_lat=bounds[0][0]*(101/100),\n",
    "        min_lon=bounds[0][1]*(101/100),\n",
    "        max_lat=bounds[1][0]*(99/100),\n",
    "        max_lon=bounds[1][1]*(99/100),\n",
    "        tiles=None,\n",
    "    )\n",
    "    \n",
    "    # Add Base Layers\n",
    "    m.add_child(lyr.base.google_hybrid(min_zoom, max_zoom))\n",
    "    m.add_child(lyr.base.google_terrain(min_zoom, max_zoom))\n",
    "    m.add_child(lyr.base.google_streets(min_zoom, max_zoom))\n",
    "    m.add_child(lyr.base.google_satellite(min_zoom, max_zoom))\n",
    "    \n",
    "    # Plano Diretor\n",
    "    m.add_child(src.sp_piracicaba.lyr.divisa_municipal())\n",
    "    m.add_child(src.sp_piracicaba.lyr.macrozona())\n",
    "    m.add_child(src.sp_piracicaba.lyr.divisa_abairramento())\n",
    "    m.add_child(src.sp_piracicaba.lyr.divisa_urbano_rural())\n",
    "    m.add_child(src.sp_piracicaba.lyr.perimetro_urbano())\n",
    "    \n",
    "    # Plugins\n",
    "    m.fit_bounds(bounds)\n",
    "    plugins.Fullscreen(\n",
    "        position='topleft',\n",
    "        title='Clique para Maximizar',\n",
    "        title_cancel='Mininizar',\n",
    "    ).add_to(m)\n",
    "    folium.LayerControl(\n",
    "        position='topright',\n",
    "        collapsed=False\n",
    "    ).add_to(m)\n",
    "    return m"
   ]
  },
  {
   "cell_type": "code",
   "execution_count": null,
   "metadata": {
    "pycharm": {
     "name": "#%%\n"
    }
   },
   "outputs": [],
   "source": [
    "m = get_map(os.path.join(output_path_shp, 'Divisa_Municipal.shp'))\n",
    "\n",
    "# Results\n",
    "m.save(os.path.join(output_path_map, 'map_pd_piracicaba.html'))\n",
    "m"
   ]
  },
  {
   "cell_type": "code",
   "execution_count": null,
   "metadata": {
    "pycharm": {
     "name": "#%%\n"
    }
   },
   "outputs": [],
   "source": []
  }
 ],
 "metadata": {
  "kernelspec": {
   "display_name": "Python 3 (ipykernel)",
   "language": "python",
   "name": "python3"
  },
  "language_info": {
   "codemirror_mode": {
    "name": "ipython",
    "version": 3
   },
   "file_extension": ".py",
   "mimetype": "text/x-python",
   "name": "python",
   "nbconvert_exporter": "python",
   "pygments_lexer": "ipython3",
   "version": "3.9.12"
  },
  "toc-autonumbering": true
 },
 "nbformat": 4,
 "nbformat_minor": 4
}
