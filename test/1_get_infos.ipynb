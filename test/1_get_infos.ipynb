{
 "cells": [
  {
   "cell_type": "markdown",
   "id": "27a9ae8a",
   "metadata": {},
   "source": [
    "<br>\n",
    "\n",
    "# Introdução"
   ]
  },
  {
   "cell_type": "code",
   "execution_count": null,
   "id": "409e03b2",
   "metadata": {},
   "outputs": [],
   "source": [
    "import os\n",
    "import requests"
   ]
  },
  {
   "cell_type": "code",
   "execution_count": null,
   "id": "dcb8cb6e-2d0e-4ade-9423-1a7cb2ff222a",
   "metadata": {},
   "outputs": [],
   "source": [
    "from paths import *"
   ]
  },
  {
   "cell_type": "markdown",
   "id": "706ae73c",
   "metadata": {},
   "source": [
    "<br>\n",
    "\n",
    "## *Download* CAD file"
   ]
  },
  {
   "cell_type": "code",
   "execution_count": null,
   "id": "8b3e3cc4",
   "metadata": {},
   "outputs": [],
   "source": [
    "url = 'https://www.imagenet.com.br/mapa-ipplap.dwg'\n",
    "r = requests.get(url)\n",
    "\n",
    "with open(os.path.join(input_path_cad, 'mapa-ipplap.dwg'), 'wb') as f:\n",
    "    f.write(r.content)"
   ]
  },
  {
   "cell_type": "code",
   "execution_count": null,
   "id": "88844eda",
   "metadata": {},
   "outputs": [],
   "source": []
  }
 ],
 "metadata": {
  "kernelspec": {
   "display_name": "Python 3 (ipykernel)",
   "language": "python",
   "name": "python3"
  },
  "language_info": {
   "codemirror_mode": {
    "name": "ipython",
    "version": 3
   },
   "file_extension": ".py",
   "mimetype": "text/x-python",
   "name": "python",
   "nbconvert_exporter": "python",
   "pygments_lexer": "ipython3",
   "version": "3.9.12"
  }
 },
 "nbformat": 4,
 "nbformat_minor": 5
}
