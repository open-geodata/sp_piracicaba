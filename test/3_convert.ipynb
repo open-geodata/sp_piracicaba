{
 "cells": [
  {
   "cell_type": "markdown",
   "metadata": {},
   "source": [
    "<br>\n",
    "\n",
    "# Convert *shp* to *geojson*"
   ]
  },
  {
   "cell_type": "code",
   "execution_count": null,
   "metadata": {
    "tags": []
   },
   "outputs": [],
   "source": [
    "import geopandas as gpd"
   ]
  },
  {
   "cell_type": "code",
   "execution_count": null,
   "metadata": {},
   "outputs": [],
   "source": [
    "from paths import *"
   ]
  },
  {
   "cell_type": "code",
   "execution_count": null,
   "metadata": {
    "jupyter": {
     "outputs_hidden": false
    },
    "pycharm": {
     "name": "#%%\n"
    }
   },
   "outputs": [],
   "source": [
    "list_shp = [x for x in os.listdir(output_path_shps) if x.endswith('.shp')]\n",
    "list_shp"
   ]
  },
  {
   "cell_type": "code",
   "execution_count": null,
   "metadata": {
    "jupyter": {
     "outputs_hidden": false
    },
    "pycharm": {
     "name": "#%%\n"
    }
   },
   "outputs": [],
   "source": [
    "for shp in list_shp:\n",
    "    #print(shp)\n",
    "    geojson_filename = shp.split('.')[0]\n",
    "    geojson_filename = geojson_filename.lower()\n",
    "    print(geojson_filename)\n",
    "\n",
    "    # Read\n",
    "    gdf = gpd.read_file(os.path.join(output_path_shps, shp))\n",
    "    gdf = gdf.to_crs(epsg=4326)\n",
    "    gdf.drop(['Shape_Area', 'Shape_Leng'], axis=1, errors='ignore', inplace=True)\n",
    "    display(gdf.head(2))\n",
    "\n",
    "    # Write\n",
    "    gdf.to_file(\n",
    "        filename=os.path.join(output_path_geo, '{}.geojson'.format(geojson_filename)),\n",
    "        driver='GeoJSON',\n",
    "        encoding='utf-8',\n",
    "    )"
   ]
  }
 ],
 "metadata": {
  "kernelspec": {
   "display_name": "Python 3 (ipykernel)",
   "language": "python",
   "name": "python3"
  },
  "language_info": {
   "codemirror_mode": {
    "name": "ipython",
    "version": 3
   },
   "file_extension": ".py",
   "mimetype": "text/x-python",
   "name": "python",
   "nbconvert_exporter": "python",
   "pygments_lexer": "ipython3",
   "version": "3.9.10"
  }
 },
 "nbformat": 4,
 "nbformat_minor": 4
}
