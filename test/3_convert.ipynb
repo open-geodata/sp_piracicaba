{
 "cells": [
  {
   "cell_type": "markdown",
   "metadata": {},
   "source": [
    "<br>\n",
    "\n",
    "# Convert *shp* to *geojson*"
   ]
  },
  {
   "cell_type": "code",
   "execution_count": 1,
   "metadata": {
    "tags": []
   },
   "outputs": [],
   "source": [
    "import geopandas as gpd"
   ]
  },
  {
   "cell_type": "code",
   "execution_count": 2,
   "metadata": {},
   "outputs": [],
   "source": [
    "from paths import *"
   ]
  },
  {
   "cell_type": "code",
   "execution_count": 3,
   "metadata": {
    "collapsed": false,
    "jupyter": {
     "outputs_hidden": false
    },
    "pycharm": {
     "name": "#%%\n"
    }
   },
   "outputs": [
    {
     "data": {
      "text/plain": "['Divisa_Abairramento.shp',\n 'Divisa_Municipal.shp',\n 'Divisa_Perimetro.shp',\n 'Divisa_UrbanoRural.shp',\n 'Macrozonas.shp']"
     },
     "execution_count": 3,
     "metadata": {},
     "output_type": "execute_result"
    }
   ],
   "source": [
    "list_shp = [x for x in os.listdir(output_path_shps) if x.endswith('.shp')]\n",
    "list_shp"
   ]
  },
  {
   "cell_type": "code",
   "execution_count": 4,
   "metadata": {
    "collapsed": false,
    "jupyter": {
     "outputs_hidden": false
    },
    "pycharm": {
     "name": "#%%\n"
    }
   },
   "outputs": [
    {
     "name": "stdout",
     "output_type": "stream",
     "text": [
      "divisa_abairramento\n"
     ]
    },
    {
     "data": {
      "text/plain": "     NomeBairro                                           geometry\n0  Dona Antônia  POLYGON Z ((-47.67433 -22.78450 0.00000, -47.6...\n1  Santa Helena  POLYGON Z ((-47.65792 -22.77612 0.00000, -47.6...",
      "text/html": "<div>\n<style scoped>\n    .dataframe tbody tr th:only-of-type {\n        vertical-align: middle;\n    }\n\n    .dataframe tbody tr th {\n        vertical-align: top;\n    }\n\n    .dataframe thead th {\n        text-align: right;\n    }\n</style>\n<table border=\"1\" class=\"dataframe\">\n  <thead>\n    <tr style=\"text-align: right;\">\n      <th></th>\n      <th>NomeBairro</th>\n      <th>geometry</th>\n    </tr>\n  </thead>\n  <tbody>\n    <tr>\n      <th>0</th>\n      <td>Dona Antônia</td>\n      <td>POLYGON Z ((-47.67433 -22.78450 0.00000, -47.6...</td>\n    </tr>\n    <tr>\n      <th>1</th>\n      <td>Santa Helena</td>\n      <td>POLYGON Z ((-47.65792 -22.77612 0.00000, -47.6...</td>\n    </tr>\n  </tbody>\n</table>\n</div>"
     },
     "metadata": {},
     "output_type": "display_data"
    },
    {
     "name": "stderr",
     "output_type": "stream",
     "text": [
      "/home/michel/Documents/Conda/envs/pablocarreira-py39/lib/python3.9/site-packages/geopandas/io/file.py:362: FutureWarning: pandas.Int64Index is deprecated and will be removed from pandas in a future version. Use pandas.Index with the appropriate dtype instead.\n",
      "  pd.Int64Index,\n"
     ]
    },
    {
     "name": "stdout",
     "output_type": "stream",
     "text": [
      "divisa_municipal\n"
     ]
    },
    {
     "data": {
      "text/plain": "                                            geometry\n0  POLYGON Z ((-47.65115 -22.52907 0.00000, -47.6...",
      "text/html": "<div>\n<style scoped>\n    .dataframe tbody tr th:only-of-type {\n        vertical-align: middle;\n    }\n\n    .dataframe tbody tr th {\n        vertical-align: top;\n    }\n\n    .dataframe thead th {\n        text-align: right;\n    }\n</style>\n<table border=\"1\" class=\"dataframe\">\n  <thead>\n    <tr style=\"text-align: right;\">\n      <th></th>\n      <th>geometry</th>\n    </tr>\n  </thead>\n  <tbody>\n    <tr>\n      <th>0</th>\n      <td>POLYGON Z ((-47.65115 -22.52907 0.00000, -47.6...</td>\n    </tr>\n  </tbody>\n</table>\n</div>"
     },
     "metadata": {},
     "output_type": "display_data"
    },
    {
     "name": "stderr",
     "output_type": "stream",
     "text": [
      "/home/michel/Documents/Conda/envs/pablocarreira-py39/lib/python3.9/site-packages/geopandas/io/file.py:362: FutureWarning: pandas.Int64Index is deprecated and will be removed from pandas in a future version. Use pandas.Index with the appropriate dtype instead.\n",
      "  pd.Int64Index,\n"
     ]
    },
    {
     "name": "stdout",
     "output_type": "stream",
     "text": [
      "divisa_perimetro\n"
     ]
    },
    {
     "data": {
      "text/plain": "        Nome                                           geometry\n0    Anhumas  POLYGON Z ((-47.92057 -22.83880 0.00000, -47.9...\n1  Ibitiruna  POLYGON Z ((-47.95933 -22.77554 0.00000, -47.9...",
      "text/html": "<div>\n<style scoped>\n    .dataframe tbody tr th:only-of-type {\n        vertical-align: middle;\n    }\n\n    .dataframe tbody tr th {\n        vertical-align: top;\n    }\n\n    .dataframe thead th {\n        text-align: right;\n    }\n</style>\n<table border=\"1\" class=\"dataframe\">\n  <thead>\n    <tr style=\"text-align: right;\">\n      <th></th>\n      <th>Nome</th>\n      <th>geometry</th>\n    </tr>\n  </thead>\n  <tbody>\n    <tr>\n      <th>0</th>\n      <td>Anhumas</td>\n      <td>POLYGON Z ((-47.92057 -22.83880 0.00000, -47.9...</td>\n    </tr>\n    <tr>\n      <th>1</th>\n      <td>Ibitiruna</td>\n      <td>POLYGON Z ((-47.95933 -22.77554 0.00000, -47.9...</td>\n    </tr>\n  </tbody>\n</table>\n</div>"
     },
     "metadata": {},
     "output_type": "display_data"
    },
    {
     "name": "stderr",
     "output_type": "stream",
     "text": [
      "/home/michel/Documents/Conda/envs/pablocarreira-py39/lib/python3.9/site-packages/geopandas/io/file.py:362: FutureWarning: pandas.Int64Index is deprecated and will be removed from pandas in a future version. Use pandas.Index with the appropriate dtype instead.\n",
      "  pd.Int64Index,\n"
     ]
    },
    {
     "name": "stdout",
     "output_type": "stream",
     "text": [
      "divisa_urbanorural\n"
     ]
    },
    {
     "data": {
      "text/plain": "          Area                                           geometry\n0   Área Rural  POLYGON Z ((-47.65115 -22.52907 0.00000, -47.6...\n1  Área Urbana  POLYGON Z ((-47.69219 -22.77091 0.00000, -47.6...",
      "text/html": "<div>\n<style scoped>\n    .dataframe tbody tr th:only-of-type {\n        vertical-align: middle;\n    }\n\n    .dataframe tbody tr th {\n        vertical-align: top;\n    }\n\n    .dataframe thead th {\n        text-align: right;\n    }\n</style>\n<table border=\"1\" class=\"dataframe\">\n  <thead>\n    <tr style=\"text-align: right;\">\n      <th></th>\n      <th>Area</th>\n      <th>geometry</th>\n    </tr>\n  </thead>\n  <tbody>\n    <tr>\n      <th>0</th>\n      <td>Área Rural</td>\n      <td>POLYGON Z ((-47.65115 -22.52907 0.00000, -47.6...</td>\n    </tr>\n    <tr>\n      <th>1</th>\n      <td>Área Urbana</td>\n      <td>POLYGON Z ((-47.69219 -22.77091 0.00000, -47.6...</td>\n    </tr>\n  </tbody>\n</table>\n</div>"
     },
     "metadata": {},
     "output_type": "display_data"
    },
    {
     "name": "stderr",
     "output_type": "stream",
     "text": [
      "/home/michel/Documents/Conda/envs/pablocarreira-py39/lib/python3.9/site-packages/geopandas/io/file.py:362: FutureWarning: pandas.Int64Index is deprecated and will be removed from pandas in a future version. Use pandas.Index with the appropriate dtype instead.\n",
      "  pd.Int64Index,\n"
     ]
    },
    {
     "name": "stdout",
     "output_type": "stream",
     "text": [
      "macrozonas\n"
     ]
    },
    {
     "data": {
      "text/plain": "         Area Macrozona Zoneamento  Nome  \\\n0  Área Rural      MADE       None  None   \n1  Área Rural      MAPH      ZORPH  None   \n\n                                            geometry  \n0  MULTIPOLYGON Z (((-47.71702 -22.84034 0.00000,...  \n1  POLYGON Z ((-47.63970 -22.59156 0.00000, -47.6...  ",
      "text/html": "<div>\n<style scoped>\n    .dataframe tbody tr th:only-of-type {\n        vertical-align: middle;\n    }\n\n    .dataframe tbody tr th {\n        vertical-align: top;\n    }\n\n    .dataframe thead th {\n        text-align: right;\n    }\n</style>\n<table border=\"1\" class=\"dataframe\">\n  <thead>\n    <tr style=\"text-align: right;\">\n      <th></th>\n      <th>Area</th>\n      <th>Macrozona</th>\n      <th>Zoneamento</th>\n      <th>Nome</th>\n      <th>geometry</th>\n    </tr>\n  </thead>\n  <tbody>\n    <tr>\n      <th>0</th>\n      <td>Área Rural</td>\n      <td>MADE</td>\n      <td>None</td>\n      <td>None</td>\n      <td>MULTIPOLYGON Z (((-47.71702 -22.84034 0.00000,...</td>\n    </tr>\n    <tr>\n      <th>1</th>\n      <td>Área Rural</td>\n      <td>MAPH</td>\n      <td>ZORPH</td>\n      <td>None</td>\n      <td>POLYGON Z ((-47.63970 -22.59156 0.00000, -47.6...</td>\n    </tr>\n  </tbody>\n</table>\n</div>"
     },
     "metadata": {},
     "output_type": "display_data"
    },
    {
     "name": "stderr",
     "output_type": "stream",
     "text": [
      "/home/michel/Documents/Conda/envs/pablocarreira-py39/lib/python3.9/site-packages/geopandas/io/file.py:362: FutureWarning: pandas.Int64Index is deprecated and will be removed from pandas in a future version. Use pandas.Index with the appropriate dtype instead.\n",
      "  pd.Int64Index,\n"
     ]
    }
   ],
   "source": [
    "for shp in list_shp:\n",
    "    #print(shp)\n",
    "    geojson_filename = shp.split('.')[0]\n",
    "    geojson_filename = geojson_filename.lower()\n",
    "    print(geojson_filename)\n",
    "\n",
    "    # Read\n",
    "    gdf = gpd.read_file(os.path.join(output_path_shps, shp))\n",
    "    gdf = gdf.to_crs(epsg=4326)\n",
    "    gdf.drop(['Shape_Area', 'Shape_Leng'], axis=1, errors='ignore', inplace=True)\n",
    "    display(gdf.head(2))\n",
    "\n",
    "    # Write\n",
    "    gdf.to_file(\n",
    "        filename=os.path.join(output_path_geo, '{}.geojson'.format(geojson_filename)),\n",
    "        driver='GeoJSON',\n",
    "        encoding='utf-8',\n",
    "    )"
   ]
  },
  {
   "cell_type": "code",
   "execution_count": null,
   "outputs": [],
   "source": [],
   "metadata": {
    "collapsed": false,
    "pycharm": {
     "name": "#%%\n"
    }
   }
  }
 ],
 "metadata": {
  "kernelspec": {
   "display_name": "Python 3 (ipykernel)",
   "language": "python",
   "name": "python3"
  },
  "language_info": {
   "codemirror_mode": {
    "name": "ipython",
    "version": 3
   },
   "file_extension": ".py",
   "mimetype": "text/x-python",
   "name": "python",
   "nbconvert_exporter": "python",
   "pygments_lexer": "ipython3",
   "version": "3.9.10"
  }
 },
 "nbformat": 4,
 "nbformat_minor": 4
}